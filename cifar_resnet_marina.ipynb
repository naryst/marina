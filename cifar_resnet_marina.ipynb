{
 "cells": [
  {
   "cell_type": "code",
   "execution_count": 55,
   "metadata": {},
   "outputs": [],
   "source": [
    "import os\n",
    "\n",
    "os.environ[\"CUDA_DEVICE_ORDER\"] = \"PCI_BUS_ID\"\n",
    "os.environ[\"CUDA_VISIBLE_DEVICES\"] = \"1\" #<- for the common server(SSH)"
   ]
  },
  {
   "cell_type": "code",
   "execution_count": 56,
   "metadata": {},
   "outputs": [],
   "source": [
    "import torch\n",
    "import torchvision\n",
    "import torchvision.transforms as transforms\n",
    "import torch.nn as nn\n",
    "import torch.nn.functional as F\n",
    "from matplotlib import pyplot as plt\n",
    "from tqdm.notebook import tqdm\n",
    "master_device = 'cuda' if torch.cuda.is_available() else 'cpu'\n",
    "import numpy as np\n",
    "from torch.utils.data import Subset, DataLoader\n",
    "from torchvision.models import resnet18, ResNet18_Weights\n",
    "from typing import List\n",
    "# import lovely_tensors as lt\n",
    "# lt.monkey_patch()"
   ]
  },
  {
   "cell_type": "code",
   "execution_count": 57,
   "metadata": {},
   "outputs": [
    {
     "name": "stdout",
     "output_type": "stream",
     "text": [
      "Files already downloaded and verified\n",
      "Files already downloaded and verified\n"
     ]
    }
   ],
   "source": [
    "transform = transforms.Compose(\n",
    "    [transforms.ToTensor(),\n",
    "     transforms.Normalize((0.5, 0.5, 0.5), (0.5, 0.5, 0.5))])\n",
    "trainset = torchvision.datasets.CIFAR10(root='./data', train=True,\n",
    "                                        download=True, transform=transform)\n",
    "testset = torchvision.datasets.CIFAR10(root='./data', train=False,\n",
    "                                       download=True, transform=transform)\n",
    "classes = ('plane', 'car', 'bird', 'cat',\n",
    "           'deer', 'dog', 'frog', 'horse', 'ship', 'truck')"
   ]
  },
  {
   "cell_type": "code",
   "execution_count": 58,
   "metadata": {},
   "outputs": [],
   "source": [
    "# TODO for testing purpose, remove later!!!!\n",
    "trainset = Subset(trainset, list(range(5000)))"
   ]
  },
  {
   "cell_type": "code",
   "execution_count": 59,
   "metadata": {},
   "outputs": [],
   "source": [
    "def count_model_params(model):\n",
    "    return  sum(p.numel() for p in model.parameters())"
   ]
  },
  {
   "cell_type": "code",
   "execution_count": 60,
   "metadata": {},
   "outputs": [],
   "source": [
    "base_model = resnet18(weights=ResNet18_Weights.IMAGENET1K_V1)\n",
    "base_model.fc = nn.Linear(512, 10)\n",
    "base_loss = nn.CrossEntropyLoss(reduction='sum')"
   ]
  },
  {
   "cell_type": "code",
   "execution_count": 61,
   "metadata": {},
   "outputs": [
    {
     "data": {
      "text/plain": [
       "11181642"
      ]
     },
     "execution_count": 61,
     "metadata": {},
     "output_type": "execute_result"
    }
   ],
   "source": [
    "count_model_params(base_model)"
   ]
  },
  {
   "cell_type": "code",
   "execution_count": 62,
   "metadata": {},
   "outputs": [],
   "source": [
    "num_workers = 5\n",
    "worker_dataset_size = len(trainset) // num_workers\n",
    "batch_size = 64\n",
    "batch_size_worker_dataset = 256 #\n",
    "K = 10**6\n",
    "gamma = 1e-3\n",
    "VR_used = True\n",
    "TRAIN_SET_SIZE = len(trainset)\n",
    "\n",
    "# W = D / K - 1 (D - num of params)\n",
    "W = count_model_params(base_model) / K - 1\n",
    "\n",
    "if VR_used:\n",
    "    p = min(\n",
    "        1.0 / (1 + W), batch_size_worker_dataset / (batch_size_worker_dataset + worker_dataset_size)\n",
    "    )  # TODO reimplemented, may be incorrect\n",
    "else:\n",
    "    p = 1.0/(1+W)\n",
    "\n",
    "TEST_LEN = 500\n",
    "rand_list = np.random.randint(low=0, high=len(trainset), size=TEST_LEN)\n",
    "testloader = DataLoader(Subset(trainset, rand_list))"
   ]
  },
  {
   "cell_type": "code",
   "execution_count": 63,
   "metadata": {},
   "outputs": [],
   "source": [
    "class WorkerModel:\n",
    "    def __init__(\n",
    "        self, model_name, dataset, VR=False, batch_size_worker_dataset=256\n",
    "    ) -> None:\n",
    "        if model_name == \"ResNet18\":\n",
    "            self.model = resnet18(weights=ResNet18_Weights.IMAGENET1K_V1)\n",
    "            self.model.fc = nn.Linear(512, 10)\n",
    "        else:\n",
    "            raise NotImplementedError(\"This model is not implemented\")\n",
    "\n",
    "        self.dataset = dataset\n",
    "        self.dataloader = DataLoader(dataset, batch_size=batch_size)\n",
    "        self.device = \"cuda\" if torch.cuda.is_available() else \"cpu\"\n",
    "        self.batch_size_worker_dataset = batch_size_worker_dataset\n",
    "        self.model = self.model.to(self.device)\n",
    "        self.VR = VR\n",
    "        self.D = count_model_params(self.model)\n",
    "        self.K = K\n",
    "\n",
    "    def full_grad(self):\n",
    "        self.mean_by_trainset = torch.tensor(1 / TRAIN_SET_SIZE).to(self.device)\n",
    "\n",
    "        self.model.train()\n",
    "        for batch in tqdm(self.dataloader):\n",
    "            inputs, labels = batch\n",
    "            inputs, labels = inputs.to(self.device), labels.to(self.device)\n",
    "            outputs = self.model(inputs)\n",
    "            loss = self.mean_by_trainset * F.cross_entropy(outputs, labels, reduction='sum')\n",
    "            loss.backward()\n",
    "\n",
    "        result = []\n",
    "        for param in self.model.parameters():\n",
    "            result.append(param.grad.data.detach().clone())\n",
    "            param.grad = None\n",
    "        return result\n",
    "\n",
    "    def substarct_grads(self, g_prev, g_next):\n",
    "        g_result = []\n",
    "        assert len(g_prev) == len(g_next)\n",
    "        for i in range(len(g_prev)):\n",
    "            g_result.append(g_next[i] - g_prev[i])\n",
    "        return g_result\n",
    "\n",
    "    def add_grads(self, grad1, grad2):\n",
    "        g_result = []\n",
    "        assert len(grad1) == len(grad2)\n",
    "        for i in range(len(grad1)):\n",
    "            g_result.append(grad1[i] + grad2[i])\n",
    "        return g_result\n",
    "\n",
    "    def compress_vector(self, v):\n",
    "        \"\"\"Vector compression with RandK algo\"\"\"\n",
    "        S = torch.randperm(self.D)\n",
    "        S = S[0 : self.K]\n",
    "        out = torch.zeros_like(v)\n",
    "        out[S] = self.D / self.K * v[S]\n",
    "        return out\n",
    "\n",
    "    def MARINA_step(self, gk, ck):\n",
    "        self.mean_by_batch = (\n",
    "            torch.Tensor([1.0 / (self.batch_size_worker_dataset)]).to(self.device)\n",
    "            if self.VR\n",
    "            else self.mean_by_trainset\n",
    "        )\n",
    "        self.mean_by_trainset = torch.tensor(1 / TRAIN_SET_SIZE).to(self.device)\n",
    "\n",
    "        if ck == 1:\n",
    "            k = 0\n",
    "            for p in self.model.parameters():\n",
    "                p.data = p.data - gamma * gk[k]\n",
    "                k = k + 1\n",
    "\n",
    "            self.model.train()\n",
    "            for batch in self.dataloader:\n",
    "                inputs, labels = batch\n",
    "                inputs, labels = inputs.to(self.device), labels.to(self.device)\n",
    "                outputs = self.model(inputs)\n",
    "                loss = self.mean_by_trainset * F.cross_entropy(outputs, labels, reduction='sum')\n",
    "                loss.backward()\n",
    "\n",
    "            result = []\n",
    "            for param in self.model.parameters():\n",
    "                result.append(param.grad.data.detach().clone())\n",
    "                param.grad = None\n",
    "            return result\n",
    "\n",
    "        elif ck == 0:\n",
    "            if self.VR:\n",
    "                indicies = torch.randperm(len(self.dataset))[\n",
    "                    0 : self.batch_size_worker_dataset\n",
    "                ]\n",
    "                subset = torch.utils.data.Subset(self.dataset, indicies)\n",
    "            else:\n",
    "                subset = self.dataset\n",
    "\n",
    "            minibatch_loader = DataLoader(subset, batch_size=batch_size)\n",
    "\n",
    "            self.model.train()\n",
    "            for batch in minibatch_loader:\n",
    "                inputs, labels = batch\n",
    "                inputs, labels = inputs.to(self.device), labels.to(self.device)\n",
    "                outputs = self.model(inputs)\n",
    "                loss = self.mean_by_batch * F.cross_entropy(outputs, labels, reduction='sum')\n",
    "                loss.backward()\n",
    "\n",
    "            g_batch_prev = []\n",
    "            for p in self.model.parameters():\n",
    "                g_batch_prev.append(p.grad.data.detach().clone())\n",
    "                p.grad = None\n",
    "\n",
    "            k = 0\n",
    "            for p in self.model.parameters():\n",
    "                p.data = p.data - gamma * gk[k]\n",
    "                k = k + 1\n",
    "\n",
    "            for batch in minibatch_loader:\n",
    "                inputs, labels = batch\n",
    "                inputs, labels = inputs.to(self.device), labels.to(self.device)\n",
    "                outputs = self.model(inputs)\n",
    "                loss = self.mean_by_batch * F.cross_entropy(outputs, labels, reduction='sum')\n",
    "                loss.backward()\n",
    "\n",
    "            g_batch_next = []\n",
    "            for p in self.model.parameters():\n",
    "                g_batch_next.append(p.grad.data.detach().clone())\n",
    "                p.grad = None\n",
    "\n",
    "            g_delta = self.substarct_grads(g_batch_prev, g_batch_next)\n",
    "\n",
    "            # ===============================================================================================\n",
    "            \"\"\"\n",
    "            Convert gradient defference to the flatten form of 1D vector\n",
    "            To compress it with RandK compressor and the turn it back to the initial form\n",
    "            \"\"\"\n",
    "            delta_offset = 0\n",
    "            g_delta_flatten = torch.zeros(self.D).to(self.device)\n",
    "\n",
    "            for t in range(len(g_delta)):\n",
    "                offset = len(g_delta[t].flatten(0))\n",
    "                g_delta_flatten[(delta_offset) : (delta_offset + offset)] = g_delta[\n",
    "                    t\n",
    "                ].flatten(0)\n",
    "                delta_offset += offset\n",
    "\n",
    "            g_delta_flatten = self.compress_vector(g_delta_flatten)\n",
    "\n",
    "            delta_offset = 0\n",
    "            for t in range(len(g_delta)):\n",
    "                offset = len(g_delta[t].flatten(0))\n",
    "                g_delta[t].flatten(0)[:] = g_delta_flatten[\n",
    "                    (delta_offset) : (delta_offset + offset)\n",
    "                ]\n",
    "                delta_offset += offset\n",
    "            # ===============================================================================================\n",
    "\n",
    "            g_resulting = self.add_grads(gk, g_delta)\n",
    "            return g_resulting"
   ]
  },
  {
   "cell_type": "code",
   "execution_count": 64,
   "metadata": {},
   "outputs": [],
   "source": [
    "datasets = []\n",
    "for i in range(num_workers):\n",
    "    start_idx = i * worker_dataset_size\n",
    "    end_idx = (i + 1) * worker_dataset_size\n",
    "\n",
    "    # Create a Subset of the dataset for the current part\n",
    "    subset = Subset(trainset, list(range(start_idx, end_idx)))\n",
    "    datasets.append(subset)"
   ]
  },
  {
   "cell_type": "code",
   "execution_count": 65,
   "metadata": {},
   "outputs": [],
   "source": [
    "def take_full_grad(workers):\n",
    "    \"\"\"\n",
    "    Initial step of the MARINA Algorithm\n",
    "    calculate full gradient on all the workers\n",
    "    to get the first value of g\n",
    "    \"\"\"\n",
    "    workers_full_grad = []\n",
    "    for worker in workers:\n",
    "        workers_full_grad.append(worker.full_grad()) # calculate on all the workers\n",
    "    g0 = workers_full_grad[0]\n",
    "    for i in range(1, num_workers): # summing up all the gradients from the client of the master node\n",
    "        for j in range(len(workers_full_grad[i])):\n",
    "            g0[j] = g0[j] + workers_full_grad[i][j].to(master_device)\n",
    "    gk = list(map(lambda x: 1/num_workers * x, g0)) # take mean of g after summing up from all workers\n",
    "    return gk"
   ]
  },
  {
   "cell_type": "code",
   "execution_count": 66,
   "metadata": {},
   "outputs": [],
   "source": [
    "def take_MARINA_step(workers: List[WorkerModel], gk):\n",
    "    step_grads = []\n",
    "    for worker in workers:\n",
    "        rand_num = np.random.random()\n",
    "        ck = 1 if rand_num < p else 0\n",
    "\n",
    "        step_grads.append(worker.MARINA_step(gk, ck))\n",
    "\n",
    "    total_grad = step_grads[0]\n",
    "    for i in range(1, len(step_grads)):\n",
    "        for j in range(len(step_grads[i])):\n",
    "            total_grad[j] = total_grad[j] + step_grads[i][j].to(master_device)\n",
    "\n",
    "    total_grad = list(map(lambda x: 1/num_workers * x, total_grad))\n",
    "    return total_grad"
   ]
  },
  {
   "cell_type": "code",
   "execution_count": 67,
   "metadata": {},
   "outputs": [],
   "source": [
    "def getAccuracy(model, dataloader, device):\n",
    "    avg_accuracy = 0\n",
    "\n",
    "    model.eval()\n",
    "    for inputs, outputs in dataloader:\n",
    "        inputs, outputs = inputs.to(device), outputs.to(device)                  # move to device\n",
    "        logits = model(inputs)                                                   # forward-pass: Make a forward pass through the network\n",
    "        avg_accuracy += (logits.data.argmax(1) == outputs).sum().item()\n",
    "\n",
    "    avg_accuracy /= TEST_LEN\n",
    "    model.train()\n",
    "\n",
    "    return avg_accuracy\n",
    "\n",
    "def getLossAndGradNorm(model, dataloader, device):\n",
    "    total_loss = 0\n",
    "    grad_norm = 0\n",
    "    one_inv_samples = torch.Tensor([1.0/TEST_LEN]).to(device)\n",
    "\n",
    "    model.eval()\n",
    "    for p in model.parameters():\n",
    "        p.grad = None\n",
    "\n",
    "    for inputs, outputs in dataloader:\n",
    "        inputs, outputs = inputs.to(device), outputs.to(device)                             # move to device\n",
    "\n",
    "        logits = model(inputs)\n",
    "\n",
    "        loss = one_inv_samples * F.cross_entropy(logits, outputs, reduction='sum')          # compute objective\n",
    "        loss.backward()                                                                     # compute the gradient (backward-pass)\n",
    "        total_loss += loss\n",
    "\n",
    "    for p in model.parameters():\n",
    "        grad_norm += torch.norm(p.grad.data.flatten(0))**2\n",
    "        p.grad = None\n",
    "\n",
    "    model.train()\n",
    "    return total_loss, grad_norm"
   ]
  },
  {
   "cell_type": "code",
   "execution_count": 68,
   "metadata": {},
   "outputs": [],
   "source": [
    "def eval_model(model, trainloader):\n",
    "    acc = getAccuracy(model, trainloader, device=master_device)\n",
    "    loss, grad_norm = getLossAndGradNorm(model, trainloader, device=master_device)\n",
    "    return acc, loss, grad_norm"
   ]
  },
  {
   "cell_type": "code",
   "execution_count": 69,
   "metadata": {},
   "outputs": [],
   "source": [
    "accs = []\n",
    "losses = []\n",
    "grad_norms = []"
   ]
  },
  {
   "cell_type": "code",
   "execution_count": 70,
   "metadata": {},
   "outputs": [],
   "source": [
    "import logging\n",
    "logging.basicConfig(filename='MARINA-1000Iters.log', level=logging.INFO)"
   ]
  },
  {
   "cell_type": "code",
   "execution_count": 71,
   "metadata": {},
   "outputs": [],
   "source": [
    "def train_loop(MAX_ITER):\n",
    "    workers = []\n",
    "    for i in range(num_workers):\n",
    "        curr_worker = WorkerModel('ResNet18', datasets[i], VR=VR_used)\n",
    "        workers.append(curr_worker)\n",
    "        print(f\"Worker {i+1} on device - {curr_worker.device}\")\n",
    "    print(\"==================Taking full gradient as first step==================\")\n",
    "    gk = take_full_grad(workers)\n",
    "    print('========================Starting MARINA steps=========================')\n",
    "    for i in tqdm(range(MAX_ITER-1)):\n",
    "        if i%10 == 0:\n",
    "            acc, loss, g_norm = eval_model(workers[0].model, testloader)\n",
    "            accs.append(acc)\n",
    "            losses.append(loss.item())\n",
    "            grad_norms.append(g_norm.item())\n",
    "            print(f\"Step={i+1}, accuracy={acc}, loss={loss.item()}, gradient_norm={g_norm}\")\n",
    "            logging.info(f\"Step={i+1}, accuracy={acc}, loss={loss.item()}, gradient_norm={g_norm}\")\n",
    "            # accs_np = np.array(accs)\n",
    "            # losses_np = np.array(losses)\n",
    "            # grad_norms_np = np.array(grad_norms)\n",
    "            # np.save('no_vr_accs.npy', accs_np)\n",
    "            # np.save('no_vr_losses.npy', losses_np)\n",
    "            # np.save('no_vr_grad_norms.npy', grad_norms_np)\n",
    "        gk_next = take_MARINA_step(workers, gk)\n",
    "        gk = gk_next"
   ]
  },
  {
   "cell_type": "code",
   "execution_count": 72,
   "metadata": {},
   "outputs": [
    {
     "name": "stdout",
     "output_type": "stream",
     "text": [
      "Worker 1 on device - cuda\n",
      "Worker 2 on device - cuda\n",
      "Worker 3 on device - cuda\n",
      "Worker 4 on device - cuda\n",
      "Worker 5 on device - cuda\n",
      "==================Taking full gradient as first step==================\n"
     ]
    },
    {
     "data": {
      "application/vnd.jupyter.widget-view+json": {
       "model_id": "3a84a77b5e2a44eb9dc912c41cdde272",
       "version_major": 2,
       "version_minor": 0
      },
      "text/plain": [
       "  0%|          | 0/16 [00:00<?, ?it/s]"
      ]
     },
     "metadata": {},
     "output_type": "display_data"
    },
    {
     "data": {
      "application/vnd.jupyter.widget-view+json": {
       "model_id": "e3bc5b2313d44d85a2a7bf5121d42e98",
       "version_major": 2,
       "version_minor": 0
      },
      "text/plain": [
       "  0%|          | 0/16 [00:00<?, ?it/s]"
      ]
     },
     "metadata": {},
     "output_type": "display_data"
    },
    {
     "data": {
      "application/vnd.jupyter.widget-view+json": {
       "model_id": "0e8a4da609c84863a442bed7964b7129",
       "version_major": 2,
       "version_minor": 0
      },
      "text/plain": [
       "  0%|          | 0/16 [00:00<?, ?it/s]"
      ]
     },
     "metadata": {},
     "output_type": "display_data"
    },
    {
     "data": {
      "application/vnd.jupyter.widget-view+json": {
       "model_id": "8b0745c4ece047a8a6da64955185ffb2",
       "version_major": 2,
       "version_minor": 0
      },
      "text/plain": [
       "  0%|          | 0/16 [00:00<?, ?it/s]"
      ]
     },
     "metadata": {},
     "output_type": "display_data"
    },
    {
     "data": {
      "application/vnd.jupyter.widget-view+json": {
       "model_id": "f2c41b366c5e47e99e57b5d640c8da8f",
       "version_major": 2,
       "version_minor": 0
      },
      "text/plain": [
       "  0%|          | 0/16 [00:00<?, ?it/s]"
      ]
     },
     "metadata": {},
     "output_type": "display_data"
    },
    {
     "name": "stdout",
     "output_type": "stream",
     "text": [
      "========================Starting MARINA steps=========================\n"
     ]
    },
    {
     "data": {
      "application/vnd.jupyter.widget-view+json": {
       "model_id": "ae923243449c4e7790b854b469d97470",
       "version_major": 2,
       "version_minor": 0
      },
      "text/plain": [
       "  0%|          | 0/2499 [00:00<?, ?it/s]"
      ]
     },
     "metadata": {},
     "output_type": "display_data"
    },
    {
     "name": "stdout",
     "output_type": "stream",
     "text": [
      "Step=1, accuracy=0.094, loss=2.4187819957733154, gradient_norm=13.732355117797852\n",
      "Step=11, accuracy=0.106, loss=2.6338002681732178, gradient_norm=123.46015167236328\n",
      "Step=21, accuracy=0.108, loss=2.6461358070373535, gradient_norm=110.2783203125\n",
      "Step=31, accuracy=0.106, loss=2.6153135299682617, gradient_norm=117.86164093017578\n",
      "Step=41, accuracy=0.112, loss=2.6055421829223633, gradient_norm=123.98627471923828\n",
      "Step=51, accuracy=0.106, loss=2.6096091270446777, gradient_norm=123.91548156738281\n",
      "Step=61, accuracy=0.116, loss=2.605438232421875, gradient_norm=119.4603271484375\n",
      "Step=71, accuracy=0.114, loss=2.570636749267578, gradient_norm=98.48695373535156\n",
      "Step=81, accuracy=0.108, loss=2.588923692703247, gradient_norm=111.5507583618164\n"
     ]
    },
    {
     "ename": "KeyboardInterrupt",
     "evalue": "",
     "output_type": "error",
     "traceback": [
      "\u001b[0;31m---------------------------------------------------------------------------\u001b[0m",
      "\u001b[0;31mKeyboardInterrupt\u001b[0m                         Traceback (most recent call last)",
      "\u001b[1;32m/home/user/commits/commit_messages_generation/opts/cifar_resnet_marina.ipynb Cell 18\u001b[0m line \u001b[0;36m2\n\u001b[1;32m      <a href='vscode-notebook-cell://ssh-remote%2B10.100.30.241/home/user/commits/commit_messages_generation/opts/cifar_resnet_marina.ipynb#X23sdnNjb2RlLXJlbW90ZQ%3D%3D?line=0'>1</a>\u001b[0m MAX_ITER \u001b[39m=\u001b[39m \u001b[39m2500\u001b[39m\n\u001b[0;32m----> <a href='vscode-notebook-cell://ssh-remote%2B10.100.30.241/home/user/commits/commit_messages_generation/opts/cifar_resnet_marina.ipynb#X23sdnNjb2RlLXJlbW90ZQ%3D%3D?line=1'>2</a>\u001b[0m train_loop(MAX_ITER)\n",
      "\u001b[1;32m/home/user/commits/commit_messages_generation/opts/cifar_resnet_marina.ipynb Cell 18\u001b[0m line \u001b[0;36m2\n\u001b[1;32m     <a href='vscode-notebook-cell://ssh-remote%2B10.100.30.241/home/user/commits/commit_messages_generation/opts/cifar_resnet_marina.ipynb#X23sdnNjb2RlLXJlbW90ZQ%3D%3D?line=16'>17</a>\u001b[0m     logging\u001b[39m.\u001b[39minfo(\u001b[39mf\u001b[39m\u001b[39m\"\u001b[39m\u001b[39mStep=\u001b[39m\u001b[39m{\u001b[39;00mi\u001b[39m+\u001b[39m\u001b[39m1\u001b[39m\u001b[39m}\u001b[39;00m\u001b[39m, accuracy=\u001b[39m\u001b[39m{\u001b[39;00macc\u001b[39m}\u001b[39;00m\u001b[39m, loss=\u001b[39m\u001b[39m{\u001b[39;00mloss\u001b[39m.\u001b[39mitem()\u001b[39m}\u001b[39;00m\u001b[39m, gradient_norm=\u001b[39m\u001b[39m{\u001b[39;00mg_norm\u001b[39m}\u001b[39;00m\u001b[39m\"\u001b[39m)\n\u001b[1;32m     <a href='vscode-notebook-cell://ssh-remote%2B10.100.30.241/home/user/commits/commit_messages_generation/opts/cifar_resnet_marina.ipynb#X23sdnNjb2RlLXJlbW90ZQ%3D%3D?line=17'>18</a>\u001b[0m     \u001b[39m# accs_np = np.array(accs)\u001b[39;00m\n\u001b[1;32m     <a href='vscode-notebook-cell://ssh-remote%2B10.100.30.241/home/user/commits/commit_messages_generation/opts/cifar_resnet_marina.ipynb#X23sdnNjb2RlLXJlbW90ZQ%3D%3D?line=18'>19</a>\u001b[0m     \u001b[39m# losses_np = np.array(losses)\u001b[39;00m\n\u001b[1;32m     <a href='vscode-notebook-cell://ssh-remote%2B10.100.30.241/home/user/commits/commit_messages_generation/opts/cifar_resnet_marina.ipynb#X23sdnNjb2RlLXJlbW90ZQ%3D%3D?line=19'>20</a>\u001b[0m     \u001b[39m# grad_norms_np = np.array(grad_norms)\u001b[39;00m\n\u001b[1;32m     <a href='vscode-notebook-cell://ssh-remote%2B10.100.30.241/home/user/commits/commit_messages_generation/opts/cifar_resnet_marina.ipynb#X23sdnNjb2RlLXJlbW90ZQ%3D%3D?line=20'>21</a>\u001b[0m     \u001b[39m# np.save('no_vr_accs.npy', accs_np)\u001b[39;00m\n\u001b[1;32m     <a href='vscode-notebook-cell://ssh-remote%2B10.100.30.241/home/user/commits/commit_messages_generation/opts/cifar_resnet_marina.ipynb#X23sdnNjb2RlLXJlbW90ZQ%3D%3D?line=21'>22</a>\u001b[0m     \u001b[39m# np.save('no_vr_losses.npy', losses_np)\u001b[39;00m\n\u001b[1;32m     <a href='vscode-notebook-cell://ssh-remote%2B10.100.30.241/home/user/commits/commit_messages_generation/opts/cifar_resnet_marina.ipynb#X23sdnNjb2RlLXJlbW90ZQ%3D%3D?line=22'>23</a>\u001b[0m     \u001b[39m# np.save('no_vr_grad_norms.npy', grad_norms_np)\u001b[39;00m\n\u001b[0;32m---> <a href='vscode-notebook-cell://ssh-remote%2B10.100.30.241/home/user/commits/commit_messages_generation/opts/cifar_resnet_marina.ipynb#X23sdnNjb2RlLXJlbW90ZQ%3D%3D?line=23'>24</a>\u001b[0m gk_next \u001b[39m=\u001b[39m take_MARINA_step(workers, gk)\n\u001b[1;32m     <a href='vscode-notebook-cell://ssh-remote%2B10.100.30.241/home/user/commits/commit_messages_generation/opts/cifar_resnet_marina.ipynb#X23sdnNjb2RlLXJlbW90ZQ%3D%3D?line=24'>25</a>\u001b[0m gk \u001b[39m=\u001b[39m gk_next\n",
      "\u001b[1;32m/home/user/commits/commit_messages_generation/opts/cifar_resnet_marina.ipynb Cell 18\u001b[0m line \u001b[0;36m7\n\u001b[1;32m      <a href='vscode-notebook-cell://ssh-remote%2B10.100.30.241/home/user/commits/commit_messages_generation/opts/cifar_resnet_marina.ipynb#X23sdnNjb2RlLXJlbW90ZQ%3D%3D?line=3'>4</a>\u001b[0m     rand_num \u001b[39m=\u001b[39m np\u001b[39m.\u001b[39mrandom\u001b[39m.\u001b[39mrandom()\n\u001b[1;32m      <a href='vscode-notebook-cell://ssh-remote%2B10.100.30.241/home/user/commits/commit_messages_generation/opts/cifar_resnet_marina.ipynb#X23sdnNjb2RlLXJlbW90ZQ%3D%3D?line=4'>5</a>\u001b[0m     ck \u001b[39m=\u001b[39m \u001b[39m1\u001b[39m \u001b[39mif\u001b[39;00m rand_num \u001b[39m<\u001b[39m p \u001b[39melse\u001b[39;00m \u001b[39m0\u001b[39m\n\u001b[0;32m----> <a href='vscode-notebook-cell://ssh-remote%2B10.100.30.241/home/user/commits/commit_messages_generation/opts/cifar_resnet_marina.ipynb#X23sdnNjb2RlLXJlbW90ZQ%3D%3D?line=6'>7</a>\u001b[0m     step_grads\u001b[39m.\u001b[39mappend(worker\u001b[39m.\u001b[39;49mMARINA_step(gk, ck))\n\u001b[1;32m      <a href='vscode-notebook-cell://ssh-remote%2B10.100.30.241/home/user/commits/commit_messages_generation/opts/cifar_resnet_marina.ipynb#X23sdnNjb2RlLXJlbW90ZQ%3D%3D?line=8'>9</a>\u001b[0m total_grad \u001b[39m=\u001b[39m step_grads[\u001b[39m0\u001b[39m]\n\u001b[1;32m     <a href='vscode-notebook-cell://ssh-remote%2B10.100.30.241/home/user/commits/commit_messages_generation/opts/cifar_resnet_marina.ipynb#X23sdnNjb2RlLXJlbW90ZQ%3D%3D?line=9'>10</a>\u001b[0m \u001b[39mfor\u001b[39;00m i \u001b[39min\u001b[39;00m \u001b[39mrange\u001b[39m(\u001b[39m1\u001b[39m, \u001b[39mlen\u001b[39m(step_grads)):\n",
      "\u001b[1;32m/home/user/commits/commit_messages_generation/opts/cifar_resnet_marina.ipynb Cell 18\u001b[0m line \u001b[0;36m1\n\u001b[1;32m    <a href='vscode-notebook-cell://ssh-remote%2B10.100.30.241/home/user/commits/commit_messages_generation/opts/cifar_resnet_marina.ipynb#X23sdnNjb2RlLXJlbW90ZQ%3D%3D?line=139'>140</a>\u001b[0m     g_delta_flatten[(delta_offset) : (delta_offset \u001b[39m+\u001b[39m offset)] \u001b[39m=\u001b[39m g_delta[\n\u001b[1;32m    <a href='vscode-notebook-cell://ssh-remote%2B10.100.30.241/home/user/commits/commit_messages_generation/opts/cifar_resnet_marina.ipynb#X23sdnNjb2RlLXJlbW90ZQ%3D%3D?line=140'>141</a>\u001b[0m         t\n\u001b[1;32m    <a href='vscode-notebook-cell://ssh-remote%2B10.100.30.241/home/user/commits/commit_messages_generation/opts/cifar_resnet_marina.ipynb#X23sdnNjb2RlLXJlbW90ZQ%3D%3D?line=141'>142</a>\u001b[0m     ]\u001b[39m.\u001b[39mflatten(\u001b[39m0\u001b[39m)\n\u001b[1;32m    <a href='vscode-notebook-cell://ssh-remote%2B10.100.30.241/home/user/commits/commit_messages_generation/opts/cifar_resnet_marina.ipynb#X23sdnNjb2RlLXJlbW90ZQ%3D%3D?line=142'>143</a>\u001b[0m     delta_offset \u001b[39m+\u001b[39m\u001b[39m=\u001b[39m offset\n\u001b[0;32m--> <a href='vscode-notebook-cell://ssh-remote%2B10.100.30.241/home/user/commits/commit_messages_generation/opts/cifar_resnet_marina.ipynb#X23sdnNjb2RlLXJlbW90ZQ%3D%3D?line=144'>145</a>\u001b[0m g_delta_flatten \u001b[39m=\u001b[39m \u001b[39mself\u001b[39;49m\u001b[39m.\u001b[39;49mcompress_vector(g_delta_flatten)\n\u001b[1;32m    <a href='vscode-notebook-cell://ssh-remote%2B10.100.30.241/home/user/commits/commit_messages_generation/opts/cifar_resnet_marina.ipynb#X23sdnNjb2RlLXJlbW90ZQ%3D%3D?line=146'>147</a>\u001b[0m delta_offset \u001b[39m=\u001b[39m \u001b[39m0\u001b[39m\n\u001b[1;32m    <a href='vscode-notebook-cell://ssh-remote%2B10.100.30.241/home/user/commits/commit_messages_generation/opts/cifar_resnet_marina.ipynb#X23sdnNjb2RlLXJlbW90ZQ%3D%3D?line=147'>148</a>\u001b[0m \u001b[39mfor\u001b[39;00m t \u001b[39min\u001b[39;00m \u001b[39mrange\u001b[39m(\u001b[39mlen\u001b[39m(g_delta)):\n",
      "\u001b[1;32m/home/user/commits/commit_messages_generation/opts/cifar_resnet_marina.ipynb Cell 18\u001b[0m line \u001b[0;36m5\n\u001b[1;32m     <a href='vscode-notebook-cell://ssh-remote%2B10.100.30.241/home/user/commits/commit_messages_generation/opts/cifar_resnet_marina.ipynb#X23sdnNjb2RlLXJlbW90ZQ%3D%3D?line=50'>51</a>\u001b[0m \u001b[39mdef\u001b[39;00m \u001b[39mcompress_vector\u001b[39m(\u001b[39mself\u001b[39m, v):\n\u001b[1;32m     <a href='vscode-notebook-cell://ssh-remote%2B10.100.30.241/home/user/commits/commit_messages_generation/opts/cifar_resnet_marina.ipynb#X23sdnNjb2RlLXJlbW90ZQ%3D%3D?line=51'>52</a>\u001b[0m \u001b[39m    \u001b[39m\u001b[39m\"\"\"Vector compression with RandK algo\"\"\"\u001b[39;00m\n\u001b[0;32m---> <a href='vscode-notebook-cell://ssh-remote%2B10.100.30.241/home/user/commits/commit_messages_generation/opts/cifar_resnet_marina.ipynb#X23sdnNjb2RlLXJlbW90ZQ%3D%3D?line=52'>53</a>\u001b[0m     S \u001b[39m=\u001b[39m torch\u001b[39m.\u001b[39;49mrandperm(\u001b[39mself\u001b[39;49m\u001b[39m.\u001b[39;49mD)\n\u001b[1;32m     <a href='vscode-notebook-cell://ssh-remote%2B10.100.30.241/home/user/commits/commit_messages_generation/opts/cifar_resnet_marina.ipynb#X23sdnNjb2RlLXJlbW90ZQ%3D%3D?line=53'>54</a>\u001b[0m     S \u001b[39m=\u001b[39m S[\u001b[39m0\u001b[39m : \u001b[39mself\u001b[39m\u001b[39m.\u001b[39mK]\n\u001b[1;32m     <a href='vscode-notebook-cell://ssh-remote%2B10.100.30.241/home/user/commits/commit_messages_generation/opts/cifar_resnet_marina.ipynb#X23sdnNjb2RlLXJlbW90ZQ%3D%3D?line=54'>55</a>\u001b[0m     out \u001b[39m=\u001b[39m torch\u001b[39m.\u001b[39mzeros_like(v)\n",
      "\u001b[0;31mKeyboardInterrupt\u001b[0m: "
     ]
    }
   ],
   "source": [
    "MAX_ITER = 2500\n",
    "train_loop(MAX_ITER)"
   ]
  },
  {
   "cell_type": "code",
   "execution_count": 73,
   "metadata": {},
   "outputs": [
    {
     "ename": "ValueError",
     "evalue": "x and y must have same first dimension, but have shapes (50,) and (9,)",
     "output_type": "error",
     "traceback": [
      "\u001b[0;31m---------------------------------------------------------------------------\u001b[0m",
      "\u001b[0;31mValueError\u001b[0m                                Traceback (most recent call last)",
      "\u001b[1;32m/home/user/commits/commit_messages_generation/opts/cifar_resnet_marina.ipynb Cell 21\u001b[0m line \u001b[0;36m5\n\u001b[1;32m      <a href='vscode-notebook-cell://ssh-remote%2B10.100.30.241/home/user/commits/commit_messages_generation/opts/cifar_resnet_marina.ipynb#X26sdnNjb2RlLXJlbW90ZQ%3D%3D?line=1'>2</a>\u001b[0m fig\u001b[39m.\u001b[39msuptitle(\u001b[39m'\u001b[39m\u001b[39mMARINA convergence results\u001b[39m\u001b[39m'\u001b[39m)\n\u001b[1;32m      <a href='vscode-notebook-cell://ssh-remote%2B10.100.30.241/home/user/commits/commit_messages_generation/opts/cifar_resnet_marina.ipynb#X26sdnNjb2RlLXJlbW90ZQ%3D%3D?line=2'>3</a>\u001b[0m X \u001b[39m=\u001b[39m np\u001b[39m.\u001b[39marange(\u001b[39m2500\u001b[39m, step\u001b[39m=\u001b[39m\u001b[39m50\u001b[39m)\n\u001b[0;32m----> <a href='vscode-notebook-cell://ssh-remote%2B10.100.30.241/home/user/commits/commit_messages_generation/opts/cifar_resnet_marina.ipynb#X26sdnNjb2RlLXJlbW90ZQ%3D%3D?line=4'>5</a>\u001b[0m ax[\u001b[39m0\u001b[39;49m]\u001b[39m.\u001b[39;49mplot(X, accs)\n\u001b[1;32m      <a href='vscode-notebook-cell://ssh-remote%2B10.100.30.241/home/user/commits/commit_messages_generation/opts/cifar_resnet_marina.ipynb#X26sdnNjb2RlLXJlbW90ZQ%3D%3D?line=5'>6</a>\u001b[0m ax[\u001b[39m0\u001b[39m]\u001b[39m.\u001b[39mset_xlabel(\u001b[39m'\u001b[39m\u001b[39mStep\u001b[39m\u001b[39m'\u001b[39m)\n\u001b[1;32m      <a href='vscode-notebook-cell://ssh-remote%2B10.100.30.241/home/user/commits/commit_messages_generation/opts/cifar_resnet_marina.ipynb#X26sdnNjb2RlLXJlbW90ZQ%3D%3D?line=6'>7</a>\u001b[0m ax[\u001b[39m0\u001b[39m]\u001b[39m.\u001b[39mset_ylabel(\u001b[39m'\u001b[39m\u001b[39mAccuaracy\u001b[39m\u001b[39m'\u001b[39m)\n",
      "File \u001b[0;32m~/miniconda3/envs/commit-generation/lib/python3.10/site-packages/matplotlib/axes/_axes.py:1688\u001b[0m, in \u001b[0;36mAxes.plot\u001b[0;34m(self, scalex, scaley, data, *args, **kwargs)\u001b[0m\n\u001b[1;32m   1445\u001b[0m \u001b[39m\u001b[39m\u001b[39m\"\"\"\u001b[39;00m\n\u001b[1;32m   1446\u001b[0m \u001b[39mPlot y versus x as lines and/or markers.\u001b[39;00m\n\u001b[1;32m   1447\u001b[0m \n\u001b[0;32m   (...)\u001b[0m\n\u001b[1;32m   1685\u001b[0m \u001b[39m(``'green'``) or hex strings (``'#008000'``).\u001b[39;00m\n\u001b[1;32m   1686\u001b[0m \u001b[39m\"\"\"\u001b[39;00m\n\u001b[1;32m   1687\u001b[0m kwargs \u001b[39m=\u001b[39m cbook\u001b[39m.\u001b[39mnormalize_kwargs(kwargs, mlines\u001b[39m.\u001b[39mLine2D)\n\u001b[0;32m-> 1688\u001b[0m lines \u001b[39m=\u001b[39m [\u001b[39m*\u001b[39m\u001b[39mself\u001b[39m\u001b[39m.\u001b[39m_get_lines(\u001b[39m*\u001b[39margs, data\u001b[39m=\u001b[39mdata, \u001b[39m*\u001b[39m\u001b[39m*\u001b[39mkwargs)]\n\u001b[1;32m   1689\u001b[0m \u001b[39mfor\u001b[39;00m line \u001b[39min\u001b[39;00m lines:\n\u001b[1;32m   1690\u001b[0m     \u001b[39mself\u001b[39m\u001b[39m.\u001b[39madd_line(line)\n",
      "File \u001b[0;32m~/miniconda3/envs/commit-generation/lib/python3.10/site-packages/matplotlib/axes/_base.py:311\u001b[0m, in \u001b[0;36m_process_plot_var_args.__call__\u001b[0;34m(self, data, *args, **kwargs)\u001b[0m\n\u001b[1;32m    309\u001b[0m     this \u001b[39m+\u001b[39m\u001b[39m=\u001b[39m args[\u001b[39m0\u001b[39m],\n\u001b[1;32m    310\u001b[0m     args \u001b[39m=\u001b[39m args[\u001b[39m1\u001b[39m:]\n\u001b[0;32m--> 311\u001b[0m \u001b[39myield from\u001b[39;00m \u001b[39mself\u001b[39;49m\u001b[39m.\u001b[39;49m_plot_args(\n\u001b[1;32m    312\u001b[0m     this, kwargs, ambiguous_fmt_datakey\u001b[39m=\u001b[39;49mambiguous_fmt_datakey)\n",
      "File \u001b[0;32m~/miniconda3/envs/commit-generation/lib/python3.10/site-packages/matplotlib/axes/_base.py:504\u001b[0m, in \u001b[0;36m_process_plot_var_args._plot_args\u001b[0;34m(self, tup, kwargs, return_kwargs, ambiguous_fmt_datakey)\u001b[0m\n\u001b[1;32m    501\u001b[0m     \u001b[39mself\u001b[39m\u001b[39m.\u001b[39maxes\u001b[39m.\u001b[39myaxis\u001b[39m.\u001b[39mupdate_units(y)\n\u001b[1;32m    503\u001b[0m \u001b[39mif\u001b[39;00m x\u001b[39m.\u001b[39mshape[\u001b[39m0\u001b[39m] \u001b[39m!=\u001b[39m y\u001b[39m.\u001b[39mshape[\u001b[39m0\u001b[39m]:\n\u001b[0;32m--> 504\u001b[0m     \u001b[39mraise\u001b[39;00m \u001b[39mValueError\u001b[39;00m(\u001b[39mf\u001b[39m\u001b[39m\"\u001b[39m\u001b[39mx and y must have same first dimension, but \u001b[39m\u001b[39m\"\u001b[39m\n\u001b[1;32m    505\u001b[0m                      \u001b[39mf\u001b[39m\u001b[39m\"\u001b[39m\u001b[39mhave shapes \u001b[39m\u001b[39m{\u001b[39;00mx\u001b[39m.\u001b[39mshape\u001b[39m}\u001b[39;00m\u001b[39m and \u001b[39m\u001b[39m{\u001b[39;00my\u001b[39m.\u001b[39mshape\u001b[39m}\u001b[39;00m\u001b[39m\"\u001b[39m)\n\u001b[1;32m    506\u001b[0m \u001b[39mif\u001b[39;00m x\u001b[39m.\u001b[39mndim \u001b[39m>\u001b[39m \u001b[39m2\u001b[39m \u001b[39mor\u001b[39;00m y\u001b[39m.\u001b[39mndim \u001b[39m>\u001b[39m \u001b[39m2\u001b[39m:\n\u001b[1;32m    507\u001b[0m     \u001b[39mraise\u001b[39;00m \u001b[39mValueError\u001b[39;00m(\u001b[39mf\u001b[39m\u001b[39m\"\u001b[39m\u001b[39mx and y can be no greater than 2D, but have \u001b[39m\u001b[39m\"\u001b[39m\n\u001b[1;32m    508\u001b[0m                      \u001b[39mf\u001b[39m\u001b[39m\"\u001b[39m\u001b[39mshapes \u001b[39m\u001b[39m{\u001b[39;00mx\u001b[39m.\u001b[39mshape\u001b[39m}\u001b[39;00m\u001b[39m and \u001b[39m\u001b[39m{\u001b[39;00my\u001b[39m.\u001b[39mshape\u001b[39m}\u001b[39;00m\u001b[39m\"\u001b[39m)\n",
      "\u001b[0;31mValueError\u001b[0m: x and y must have same first dimension, but have shapes (50,) and (9,)"
     ]
    },
    {
     "data": {
      "image/png": "[encoded data removed]",
      "text/plain": [
       "<Figure size 2100x700 with 3 Axes>"
      ]
     },
     "metadata": {},
     "output_type": "display_data"
    }
   ],
   "source": [
    "fig, ax = plt.subplots(1, 3,  figsize=(21, 7))\n",
    "fig.suptitle('MARINA convergence results')\n",
    "X = np.arange(2500, step=50)\n",
    "\n",
    "ax[0].plot(X, accs)\n",
    "ax[0].set_xlabel('Step')\n",
    "ax[0].set_ylabel('Accuaracy')\n",
    "\n",
    "ax[1].plot(X, losses)\n",
    "ax[1].set_xlabel('Step')\n",
    "ax[1].set_ylabel('Loss')\n",
    "\n",
    "ax[2].plot(X, grad_norms)\n",
    "ax[2].set_ylabel(\"$\\| \\\\nabla f(x)\\|^2$\")\n",
    "ax[2].set_xlabel('Step')\n",
    "\n",
    "ax[0].grid()\n",
    "ax[1].grid()\n",
    "ax[2].grid()\n",
    "plt.savefig('marina_convergence.png')"
   ]
  }
 ],
 "metadata": {
  "kernelspec": {
   "display_name": "Python 3 (ipykernel)",
   "language": "python",
   "name": "python3"
  },
  "language_info": {
   "codemirror_mode": {
    "name": "ipython",
    "version": 3
   },
   "file_extension": ".py",
   "mimetype": "text/x-python",
   "name": "python",
   "nbconvert_exporter": "python",
   "pygments_lexer": "ipython3",
   "version": "3.10.13"
  }
 },
 "nbformat": 4,
 "nbformat_minor": 4
}
