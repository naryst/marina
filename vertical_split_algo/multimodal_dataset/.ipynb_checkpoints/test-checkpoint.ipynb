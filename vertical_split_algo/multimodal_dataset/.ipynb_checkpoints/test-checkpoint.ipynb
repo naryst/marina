{
 "cells": [
  {
   "cell_type": "code",
   "execution_count": 10,
   "id": "2bfcff17-b991-4fc1-8d89-13e3f121576b",
   "metadata": {},
   "outputs": [],
   "source": [
    "import torch\n",
    "from torch import nn"
   ]
  },
  {
   "cell_type": "code",
   "execution_count": 11,
   "id": "b5250893-ffec-4b1d-b317-ecf8e56f9c80",
   "metadata": {},
   "outputs": [],
   "source": [
    "E = torch.tensor([1.0,10.0], requires_grad=True)\n",
    "E.retain_grad()\n",
    "F = torch.tensor([[0.1, 0.2, 0.3], [0.3, 0.4, 0.5]], requires_grad=True)\n",
    "res = torch.matmul(F.T, E)\n",
    "res.retain_grad()\n",
    "label = torch.tensor(1)"
   ]
  },
  {
   "cell_type": "code",
   "execution_count": 12,
   "id": "9bf3f232-70f3-4ad3-9205-79374e7a5243",
   "metadata": {},
   "outputs": [],
   "source": [
    "loss = nn.CrossEntropyLoss()\n",
    "opt = torch.optim.SGD([F], lr=0.01)"
   ]
  },
  {
   "cell_type": "code",
   "execution_count": 13,
   "id": "71dd9e57-cf5d-4743-b85a-28c89592ecc7",
   "metadata": {},
   "outputs": [
    {
     "data": {
      "text/plain": [
       "tensor(1)"
      ]
     },
     "execution_count": 13,
     "metadata": {},
     "output_type": "execute_result"
    }
   ],
   "source": [
    "label"
   ]
  },
  {
   "cell_type": "code",
   "execution_count": 14,
   "id": "6853be63-11f5-4d98-9785-cf8b2eb252f8",
   "metadata": {},
   "outputs": [
    {
     "name": "stdout",
     "output_type": "stream",
     "text": [
      "1.467191457748413\n"
     ]
    }
   ],
   "source": [
    "opt.zero_grad()\n",
    "res = torch.matmul(F.T, E)\n",
    "res.retain_grad()\n",
    "l = loss(res, label)\n",
    "print(l.item())\n",
    "l.backward()\n",
    "# opt.step()"
   ]
  },
  {
   "cell_type": "code",
   "execution_count": 15,
   "id": "45874ee5-57eb-4dd4-a2da-a6abb9447517",
   "metadata": {},
   "outputs": [
    {
     "data": {
      "text/plain": [
       "tensor([True, True])"
      ]
     },
     "execution_count": 15,
     "metadata": {},
     "output_type": "execute_result"
    }
   ],
   "source": [
    "res.grad @ F.T == E.grad"
   ]
  },
  {
   "cell_type": "code",
   "execution_count": 16,
   "id": "f921a372-a663-4ca9-955b-ba64fa340027",
   "metadata": {},
   "outputs": [
    {
     "data": {
      "text/plain": [
       "torch.Size([3])"
      ]
     },
     "execution_count": 16,
     "metadata": {},
     "output_type": "execute_result"
    }
   ],
   "source": [
    "res.shape"
   ]
  },
  {
   "cell_type": "code",
   "execution_count": 23,
   "id": "ae51b4d3-7841-49fc-834d-e6c541293524",
   "metadata": {},
   "outputs": [
    {
     "data": {
      "text/plain": [
       "tensor(1.4672, grad_fn=<MulBackward0>)"
      ]
     },
     "execution_count": 23,
     "metadata": {},
     "output_type": "execute_result"
    }
   ],
   "source": [
    "s = nn.Softmax(dim=0)\n",
    "softmaxed = s(res)\n",
    "true_ohe = torch.tensor([0,1, 0])\n",
    "sum = 0\n",
    "for i in range(len(true_ohe)):\n",
    "    sum += true_ohe[i] * torch.log(softmaxed[i])\n",
    "\n",
    "sum *= -1\n",
    "sum"
   ]
  },
  {
   "cell_type": "code",
   "execution_count": 24,
   "id": "84999a7f-a189-4831-b9d3-66ff76112980",
   "metadata": {},
   "outputs": [
    {
     "data": {
      "text/plain": [
       "(torch.Size([2]), torch.Size([2, 3]))"
      ]
     },
     "execution_count": 24,
     "metadata": {},
     "output_type": "execute_result"
    }
   ],
   "source": [
    "E.shape, F.shape"
   ]
  },
  {
   "cell_type": "code",
   "execution_count": 33,
   "id": "2c7015ca-543a-4f6a-8af4-4ee16ab59eb9",
   "metadata": {},
   "outputs": [
    {
     "data": {
      "text/plain": [
       "tensor([ 0.0768, -0.7694,  0.6927], grad_fn=<SubBackward0>)"
      ]
     },
     "execution_count": 33,
     "metadata": {},
     "output_type": "execute_result"
    }
   ],
   "source": [
    "softmaxed - true_ohe"
   ]
  },
  {
   "cell_type": "code",
   "execution_count": 35,
   "id": "82047104-62ad-43b6-9f5b-73d6490df85d",
   "metadata": {},
   "outputs": [
    {
     "data": {
      "text/plain": [
       "tensor([ 0.0768, -0.7694,  0.6927])"
      ]
     },
     "execution_count": 35,
     "metadata": {},
     "output_type": "execute_result"
    }
   ],
   "source": [
    "res.grad"
   ]
  }
 ],
 "metadata": {
  "kernelspec": {
   "display_name": "commit-generation",
   "language": "python",
   "name": "commit-generation"
  },
  "language_info": {
   "codemirror_mode": {
    "name": "ipython",
    "version": 3
   },
   "file_extension": ".py",
   "mimetype": "text/x-python",
   "name": "python",
   "nbconvert_exporter": "python",
   "pygments_lexer": "ipython3",
   "version": "3.11.6"
  }
 },
 "nbformat": 4,
 "nbformat_minor": 5
}
