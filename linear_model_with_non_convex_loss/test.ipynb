{
 "cells": [
  {
   "cell_type": "code",
   "execution_count": 1,
   "metadata": {},
   "outputs": [],
   "source": [
    "import numpy as np\n",
    "import matplotlib.pyplot as plt\n",
    "\n",
    "import sys, os, pickle, math\n",
    "import psutil \n",
    "import time\n",
    "\n",
    "import torch\n",
    "import torchvision\n",
    "\n",
    "import torchvision.transforms as transforms\n",
    "\n",
    "from torch.utils.collect_env import get_pretty_env_info\n",
    "from torch.utils.data import TensorDataset, DataLoader\n",
    "\n",
    "from pathlib import Path\n",
    "import compressors, dataset, utils\n",
    "import time, random, sys, os, math, copy\n",
    "from mpi4py import MPI"
   ]
  },
  {
   "cell_type": "code",
   "execution_count": 2,
   "metadata": {},
   "outputs": [],
   "source": [
    "from lovely_numpy import lo "
   ]
  },
  {
   "cell_type": "code",
   "execution_count": 3,
   "metadata": {},
   "outputs": [
    {
     "name": "stdout",
     "output_type": "stream",
     "text": [
      "a9a    download.sh  gisette_scale.bz2  madelon.t  README.txt  w8a.t\n",
      "a9a.t  duke.bz2     madelon\t       phishing   w8a\n"
     ]
    }
   ],
   "source": [
    "!ls data"
   ]
  },
  {
   "cell_type": "code",
   "execution_count": 4,
   "metadata": {},
   "outputs": [],
   "source": [
    "fname = 'w8a'\n",
    "path = 'data/' + fname\n",
    "\n",
    "data = dataset.DataSet()\n",
    "\n",
    "features, pos, neg = data.analyzeDataset(path)\n",
    "X, Y = data.readSparseInput(path, features+1, pos, neg, True)"
   ]
  },
  {
   "cell_type": "code",
   "execution_count": 5,
   "metadata": {},
   "outputs": [],
   "source": [
    "data.loadDataForClassification(fname, True)"
   ]
  }
 ],
 "metadata": {
  "kernelspec": {
   "display_name": "ml",
   "language": "python",
   "name": "python3"
  },
  "language_info": {
   "codemirror_mode": {
    "name": "ipython",
    "version": 3
   },
   "file_extension": ".py",
   "mimetype": "text/x-python",
   "name": "python",
   "nbconvert_exporter": "python",
   "pygments_lexer": "ipython3",
   "version": "3.11.4"
  },
  "orig_nbformat": 4
 },
 "nbformat": 4,
 "nbformat_minor": 2
}
