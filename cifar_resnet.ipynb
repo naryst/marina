{
 "cells": [
  {
   "cell_type": "code",
   "execution_count": 22,
   "metadata": {},
   "outputs": [],
   "source": [
    "import os\n",
    "\n",
    "os.environ[\"CUDA_DEVICE_ORDER\"] = \"PCI_BUS_ID\"\n",
    "os.environ[\"CUDA_VISIBLE_DEVICES\"] = \"1\" #<- for the common server(SSH)"
   ]
  },
  {
   "cell_type": "code",
   "execution_count": 23,
   "metadata": {},
   "outputs": [],
   "source": [
    "import torch\n",
    "import torchvision\n",
    "import torchvision.transforms as transforms\n",
    "import torch.nn as nn\n",
    "import torch.nn.functional as F\n",
    "from matplotlib import pyplot as plt\n",
    "from tqdm.notebook import tqdm\n",
    "device = 'cuda' if torch.cuda.is_available() else 'cpu'\n",
    "import numpy as np"
   ]
  },
  {
   "cell_type": "code",
   "execution_count": 24,
   "metadata": {},
   "outputs": [
    {
     "name": "stdout",
     "output_type": "stream",
     "text": [
      "Files already downloaded and verified\n",
      "Files already downloaded and verified\n"
     ]
    }
   ],
   "source": [
    "transform = transforms.Compose(\n",
    "    [transforms.ToTensor(),\n",
    "     transforms.Normalize((0.5, 0.5, 0.5), (0.5, 0.5, 0.5))])\n",
    "\n",
    "batch_size = 128\n",
    "\n",
    "trainset = torchvision.datasets.CIFAR10(root='./data', train=True,\n",
    "                                        download=True, transform=transform)\n",
    "trainloader = torch.utils.data.DataLoader(trainset, batch_size=batch_size,\n",
    "                                          shuffle=True, num_workers=2)\n",
    "\n",
    "testset = torchvision.datasets.CIFAR10(root='./data', train=False,\n",
    "                                       download=True, transform=transform)\n",
    "testloader = torch.utils.data.DataLoader(testset, batch_size=batch_size,\n",
    "                                         shuffle=False, num_workers=2)\n",
    "\n",
    "classes = ('plane', 'car', 'bird', 'cat',\n",
    "           'deer', 'dog', 'frog', 'horse', 'ship', 'truck')"
   ]
  },
  {
   "cell_type": "code",
   "execution_count": 26,
   "metadata": {},
   "outputs": [],
   "source": [
    "model = torch.hub.load('pytorch/vision:v0.10.0', 'resnext50_32x4d', pretrained=True)\n",
    "#override fc layer to 10 labels\n",
    "model.fc = nn.Linear(2048, 10)\n",
    "model = model.to(device)\n",
    "\n",
    "loss_fun = nn.CrossEntropyLoss()\n",
    "lr = 1e-3\n",
    "optimizer = torch.optim.SGD(params=model.parameters(), lr=lr)\n",
    "epochs = 5\n",
    "\n",
    "def train(model, epochs, loss_fun, optimizer, trainloader):\n",
    "    loss = []\n",
    "    acc = []\n",
    "\n",
    "    for _ in range(epochs):\n",
    "        epoch_loss = 0\n",
    "        epoch_acc = []\n",
    "        model.train()\n",
    "        for batch in tqdm(trainloader):\n",
    "            input, labels = batch\n",
    "            input = input.to(device)\n",
    "            labels = labels.to(device)\n",
    "\n",
    "            optimizer.zero_grad()\n",
    "\n",
    "            model_output = model(input)\n",
    "            result = torch.argmax(model_output, dim=1)\n",
    "            step_loss_val = loss_fun(model_output, labels)\n",
    "            epoch_loss += step_loss_val.item()\n",
    "            batch_acc = torch.count_nonzero(result == labels).item()\n",
    "            batch_acc /= len(labels)\n",
    "            epoch_acc.append(batch_acc)\n",
    "            step_loss_val.backward()\n",
    "            optimizer.step()\n",
    "        epoch_loss /= len(trainloader)\n",
    "        epoch_acc = np.mean(epoch_acc)\n",
    "        loss.append(epoch_loss)\n",
    "        acc.append(epoch_acc)\n",
    "\n",
    "    return loss, acc\n",
    "\n",
    "def test(model, loss_fun, testloader):\n",
    "    loss = []\n",
    "    acc = []\n",
    "    epoch_loss = 0\n",
    "    epoch_acc = []\n",
    "    model.eval()\n",
    "    with torch.no_grad():\n",
    "        for batch in tqdm(testloader):\n",
    "            input, labels = batch\n",
    "            input = input.to(device)\n",
    "            labels = labels.to(device)\n",
    "            model_output = model(input)\n",
    "            result = torch.argmax(model_output, dim=1)\n",
    "            step_loss_val = loss_fun(model_output, labels)\n",
    "            epoch_loss += step_loss_val.item()\n",
    "            batch_acc = torch.count_nonzero(result == labels).item()\n",
    "            batch_acc /= len(labels)\n",
    "            epoch_acc.append(batch_acc)\n",
    "        epoch_loss /= len(testloader)\n",
    "        epoch_acc = np.mean(epoch_acc)\n",
    "        loss.append(epoch_loss)\n",
    "        acc.append(epoch_acc)\n",
    "\n",
    "    return loss, acc\n",
    "\n",
    "loss, acc = train(model, epochs, loss_fun, optimizer, trainloader)\n",
    "print(loss)\n",
    "print(acc)"
   ]
  },
  {
   "cell_type": "code",
   "execution_count": null,
   "metadata": {},
   "outputs": [],
   "source": []
  }
 ],
 "metadata": {
  "kernelspec": {
   "display_name": "commit-generation",
   "language": "python",
   "name": "python3"
  },
  "language_info": {
   "codemirror_mode": {
    "name": "ipython",
    "version": 3
   },
   "file_extension": ".py",
   "mimetype": "text/x-python",
   "name": "python",
   "nbconvert_exporter": "python",
   "pygments_lexer": "ipython3",
   "version": "3.10.13"
  }
 },
 "nbformat": 4,
 "nbformat_minor": 2
}
